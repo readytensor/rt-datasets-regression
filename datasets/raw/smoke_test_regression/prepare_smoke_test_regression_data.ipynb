{
 "cells": [
  {
   "cell_type": "markdown",
   "id": "374db10b",
   "metadata": {},
   "source": [
    "\n",
    "**Smoke Test Dataset Description**\n",
    "\n",
    "This dataset is generated from a combination of random samples of numbers and colors. Each sample in the dataset comprises:\n",
    "\n",
    "- **ID**: A unique identifier.\n",
    "- **Number**: A random value between 0 and 10.\n",
    "- **Color**: A categorical attribute chosen randomly from the set { 'Red', 'Green', 'Blue' }.\n",
    "\n",
    "The target value for each sample is derived using the equation:  \n",
    "\n",
    "$$target=a×number+b×number^2 $$\n",
    "\n",
    "With adjustments:\n",
    "- An additional 50 is added for samples where the color is 'Green'.\n",
    "- An added value of 100 for samples with the color 'Blue'.\n",
    "\n",
    "Furthermore, the dataset introduces elements of unpredictability:\n",
    "- Roughly 10% of the samples might lack either the number or color attribute.\n",
    "- Specifically, the first data entry is guaranteed to have a missing value, either in the number or color column.\n",
    "\n",
    "In essence, this dataset serves as a litmus test, aiming to assess algorithms' robustness, especially when encountering missing data and intricate non-linear relationships.\n",
    "\n",
    "---"
   ]
  },
  {
   "cell_type": "code",
   "execution_count": 4,
   "id": "7456fe5f",
   "metadata": {},
   "outputs": [],
   "source": [
    "import pandas as pd\n",
    "import numpy as np\n",
    "import random\n",
    "import string\n",
    "import os"
   ]
  },
  {
   "cell_type": "code",
   "execution_count": 5,
   "id": "07c9bf52",
   "metadata": {},
   "outputs": [],
   "source": [
    "dataset_name = \"smoke_test_regression\""
   ]
  },
  {
   "cell_type": "code",
   "execution_count": 6,
   "id": "6ca60f86",
   "metadata": {},
   "outputs": [],
   "source": [
    "output_dir = f'./../../processed/{dataset_name}/'\n",
    "outp_fname = os.path.join(output_dir, f'{dataset_name}.csv')"
   ]
  },
  {
   "cell_type": "markdown",
   "id": "91a4eec3",
   "metadata": {},
   "source": [
    "# Generation functions"
   ]
  },
  {
   "cell_type": "code",
   "execution_count": 13,
   "id": "de7086d5",
   "metadata": {},
   "outputs": [],
   "source": [
    "def set_seed(seed_value=10):\n",
    "    np.random.seed(seed_value)\n",
    "    random.seed(seed_value)"
   ]
  },
  {
   "cell_type": "code",
   "execution_count": 14,
   "id": "ccb88ae6",
   "metadata": {},
   "outputs": [],
   "source": [
    "def generate_id(size=6, chars=string.ascii_uppercase + string.digits):\n",
    "    return ''.join(random.choice(chars) for _ in range(size))"
   ]
  },
  {
   "cell_type": "code",
   "execution_count": 15,
   "id": "c761bd6a",
   "metadata": {},
   "outputs": [],
   "source": [
    "# Generate the dataset\n",
    "def generate_dataset(n_samples=N_SAMPLES, a=A, b=B):\n",
    "    ids = [generate_id() for _ in range(n_samples)]\n",
    "    numbers = np.random.uniform(0, 10, n_samples)\n",
    "    colors = np.random.choice(['Red', 'Green', 'Blue'], n_samples)\n",
    "    \n",
    "    # Compute the target based on the provided formula\n",
    "    target = a * numbers + b * numbers**2\n",
    "    target[colors == 'Green'] += 50\n",
    "    target[colors == 'Blue'] += 100\n",
    "\n",
    "    # Create a DataFrame\n",
    "    df = pd.DataFrame({\n",
    "        'id': ids,\n",
    "        'number': numbers,\n",
    "        'color': colors,\n",
    "        'target': target\n",
    "    })\n",
    "\n",
    "    # Introduce missing values\n",
    "    n_missing = int(0.1 * n_samples)\n",
    "    missing_indices_number = np.random.choice(n_samples, n_missing, replace=False)\n",
    "    missing_indices_color = np.random.choice(n_samples, n_missing, replace=False)\n",
    "\n",
    "    df.loc[missing_indices_number, 'number'] = np.nan\n",
    "    df.loc[missing_indices_color, 'color'] = np.nan\n",
    "    \n",
    "    # Ensure first row has a missing value in either number or color\n",
    "    if random.choice([True, False]):\n",
    "        df.loc[0, 'number'] = np.nan\n",
    "    else:\n",
    "        df.loc[0, 'color'] = np.nan\n",
    "\n",
    "    return df"
   ]
  },
  {
   "cell_type": "markdown",
   "id": "8b5aaa14",
   "metadata": {},
   "source": [
    "# Create Data"
   ]
  },
  {
   "cell_type": "code",
   "execution_count": 16,
   "id": "a3382f73",
   "metadata": {},
   "outputs": [
    {
     "data": {
      "text/html": [
       "<div>\n",
       "<style scoped>\n",
       "    .dataframe tbody tr th:only-of-type {\n",
       "        vertical-align: middle;\n",
       "    }\n",
       "\n",
       "    .dataframe tbody tr th {\n",
       "        vertical-align: top;\n",
       "    }\n",
       "\n",
       "    .dataframe thead th {\n",
       "        text-align: right;\n",
       "    }\n",
       "</style>\n",
       "<table border=\"1\" class=\"dataframe\">\n",
       "  <thead>\n",
       "    <tr style=\"text-align: right;\">\n",
       "      <th></th>\n",
       "      <th>id</th>\n",
       "      <th>number</th>\n",
       "      <th>color</th>\n",
       "      <th>target</th>\n",
       "    </tr>\n",
       "  </thead>\n",
       "  <tbody>\n",
       "    <tr>\n",
       "      <th>0</th>\n",
       "      <td>C14AN3</td>\n",
       "      <td>NaN</td>\n",
       "      <td>Green</td>\n",
       "      <td>176.700313</td>\n",
       "    </tr>\n",
       "    <tr>\n",
       "      <th>1</th>\n",
       "      <td>5RKC75</td>\n",
       "      <td>0.207519</td>\n",
       "      <td>NaN</td>\n",
       "      <td>0.293648</td>\n",
       "    </tr>\n",
       "    <tr>\n",
       "      <th>2</th>\n",
       "      <td>UEPXC0</td>\n",
       "      <td>6.336482</td>\n",
       "      <td>Red</td>\n",
       "      <td>86.638499</td>\n",
       "    </tr>\n",
       "    <tr>\n",
       "      <th>3</th>\n",
       "      <td>IWY0SQ</td>\n",
       "      <td>7.488039</td>\n",
       "      <td>Red</td>\n",
       "      <td>119.629490</td>\n",
       "    </tr>\n",
       "    <tr>\n",
       "      <th>4</th>\n",
       "      <td>3LTXI3</td>\n",
       "      <td>4.985070</td>\n",
       "      <td>Green</td>\n",
       "      <td>104.686918</td>\n",
       "    </tr>\n",
       "  </tbody>\n",
       "</table>\n",
       "</div>"
      ],
      "text/plain": [
       "       id    number  color      target\n",
       "0  C14AN3       NaN  Green  176.700313\n",
       "1  5RKC75  0.207519    NaN    0.293648\n",
       "2  UEPXC0  6.336482    Red   86.638499\n",
       "3  IWY0SQ  7.488039    Red  119.629490\n",
       "4  3LTXI3  4.985070  Green  104.686918"
      ]
     },
     "execution_count": 16,
     "metadata": {},
     "output_type": "execute_result"
    }
   ],
   "source": [
    "# Constants\n",
    "N_SAMPLES = 200\n",
    "A = 1\n",
    "B = 2\n",
    "\n",
    "# Set the seed for reproducibility\n",
    "set_seed()\n",
    "\n",
    "# Generate the dataset\n",
    "df = generate_dataset()\n",
    "df.head()\n"
   ]
  },
  {
   "cell_type": "code",
   "execution_count": 17,
   "id": "81dcceb1",
   "metadata": {},
   "outputs": [
    {
     "data": {
      "text/plain": [
       "(200, 4)"
      ]
     },
     "execution_count": 17,
     "metadata": {},
     "output_type": "execute_result"
    }
   ],
   "source": [
    "df.shape"
   ]
  },
  {
   "cell_type": "markdown",
   "id": "90fbbf3a",
   "metadata": {},
   "source": [
    "# Save Main Data File"
   ]
  },
  {
   "cell_type": "code",
   "execution_count": 20,
   "id": "b72b73de",
   "metadata": {},
   "outputs": [],
   "source": [
    "df.to_csv(outp_fname, index=False, float_format=\"%.4f\")"
   ]
  },
  {
   "cell_type": "code",
   "execution_count": null,
   "id": "0148bdf2",
   "metadata": {},
   "outputs": [],
   "source": []
  }
 ],
 "metadata": {
  "kernelspec": {
   "display_name": "Python 3 (ipykernel)",
   "language": "python",
   "name": "python3"
  },
  "language_info": {
   "codemirror_mode": {
    "name": "ipython",
    "version": 3
   },
   "file_extension": ".py",
   "mimetype": "text/x-python",
   "name": "python",
   "nbconvert_exporter": "python",
   "pygments_lexer": "ipython3",
   "version": "3.9.13"
  }
 },
 "nbformat": 4,
 "nbformat_minor": 5
}
