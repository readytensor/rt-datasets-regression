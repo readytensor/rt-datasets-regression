{
 "cells": [
  {
   "cell_type": "code",
   "execution_count": 5,
   "id": "56e92a08",
   "metadata": {},
   "outputs": [],
   "source": [
    "import numpy as np\n",
    "import pandas as pd\n",
    "import os"
   ]
  },
  {
   "cell_type": "code",
   "execution_count": 6,
   "id": "0c02bf2a",
   "metadata": {},
   "outputs": [],
   "source": [
    "dataset_name = 'college_pell_grants'"
   ]
  },
  {
   "cell_type": "code",
   "execution_count": 36,
   "id": "01f2ef5f",
   "metadata": {},
   "outputs": [],
   "source": [
    "input_dir = './data'\n",
    "inp_fname = 'dataset.arff'\n",
    "output_dir = f'./../../processed/{dataset_name}/'\n",
    "outp_fname = os.path.join(output_dir, f'{dataset_name}.csv')"
   ]
  },
  {
   "cell_type": "markdown",
   "id": "999eeb5b",
   "metadata": {},
   "source": [
    "# Read Data"
   ]
  },
  {
   "cell_type": "code",
   "execution_count": 37,
   "id": "5a67a4c1",
   "metadata": {},
   "outputs": [
    {
     "data": {
      "text/plain": [
       "48"
      ]
     },
     "execution_count": 37,
     "metadata": {},
     "output_type": "execute_result"
    }
   ],
   "source": [
    "cols = [\n",
    "    'unit_id', 'school_name', 'city', 'state', 'zip', 'school_webpage', 'latitude', 'longitude', \n",
    "    'admission_rate', 'sat_verbal_midrange', 'sat_math_midrange', 'sat_writing_midrange', 'act_combined_midrange', \n",
    "    'act_english_midrange', 'act_math_midrange', 'act_writing_midrange', 'sat_total_average', 'undergrad_size', \n",
    "    'percent_white', 'percent_black', 'percent_hispanic', 'percent_asian', 'percent_part_time', 'average_cost_academic_year', \n",
    "    'average_cost_program_year', 'tuition_(instate)', 'tuition_(out_of_state)', 'spend_per_student', 'faculty_salary', \n",
    "    'percent_part_time_faculty', 'percent_pell_grant', 'completion_rate', 'predominant_degree', 'highest_degree', \n",
    "    'ownership', 'region', 'gender', 'carnegie_basic_classification', 'carnegie_undergraduate', 'carnegie_size', \n",
    "    'religious_affiliation', 'percent_female', 'agege24', 'faminc', 'mean_earnings_6_years', 'median_earnings_6_years', \n",
    "    'mean_earnings_10_years', 'median_earnings_10_years',\n",
    "]\n",
    "len(cols)"
   ]
  },
  {
   "cell_type": "code",
   "execution_count": 38,
   "id": "5bca81be",
   "metadata": {},
   "outputs": [
    {
     "name": "stdout",
     "output_type": "stream",
     "text": [
      "(7063, 48)\n"
     ]
    },
    {
     "data": {
      "text/html": [
       "<div>\n",
       "<style scoped>\n",
       "    .dataframe tbody tr th:only-of-type {\n",
       "        vertical-align: middle;\n",
       "    }\n",
       "\n",
       "    .dataframe tbody tr th {\n",
       "        vertical-align: top;\n",
       "    }\n",
       "\n",
       "    .dataframe thead th {\n",
       "        text-align: right;\n",
       "    }\n",
       "</style>\n",
       "<table border=\"1\" class=\"dataframe\">\n",
       "  <thead>\n",
       "    <tr style=\"text-align: right;\">\n",
       "      <th></th>\n",
       "      <th>unit_id</th>\n",
       "      <th>school_name</th>\n",
       "      <th>city</th>\n",
       "      <th>state</th>\n",
       "      <th>zip</th>\n",
       "      <th>school_webpage</th>\n",
       "      <th>latitude</th>\n",
       "      <th>longitude</th>\n",
       "      <th>admission_rate</th>\n",
       "      <th>sat_verbal_midrange</th>\n",
       "      <th>...</th>\n",
       "      <th>carnegie_undergraduate</th>\n",
       "      <th>carnegie_size</th>\n",
       "      <th>religious_affiliation</th>\n",
       "      <th>percent_female</th>\n",
       "      <th>agege24</th>\n",
       "      <th>faminc</th>\n",
       "      <th>mean_earnings_6_years</th>\n",
       "      <th>median_earnings_6_years</th>\n",
       "      <th>mean_earnings_10_years</th>\n",
       "      <th>median_earnings_10_years</th>\n",
       "    </tr>\n",
       "  </thead>\n",
       "  <tbody>\n",
       "    <tr>\n",
       "      <th>0</th>\n",
       "      <td>100654</td>\n",
       "      <td>Alabama A &amp; M University</td>\n",
       "      <td>Normal</td>\n",
       "      <td>AL</td>\n",
       "      <td>35762</td>\n",
       "      <td>www.aamu.edu/</td>\n",
       "      <td>34.7834</td>\n",
       "      <td>-86.5685</td>\n",
       "      <td>0.8989</td>\n",
       "      <td>410.0</td>\n",
       "      <td>...</td>\n",
       "      <td>Full-time four-year, inclusive</td>\n",
       "      <td>Medium 4-year, highly residential (3,000 to 9,...</td>\n",
       "      <td>?</td>\n",
       "      <td>0.52999997138977</td>\n",
       "      <td>0.07999999821186</td>\n",
       "      <td>40211.22</td>\n",
       "      <td>26100.0</td>\n",
       "      <td>22800.0</td>\n",
       "      <td>35300.0</td>\n",
       "      <td>31400.0</td>\n",
       "    </tr>\n",
       "    <tr>\n",
       "      <th>1</th>\n",
       "      <td>100663</td>\n",
       "      <td>University of Alabama at Birmingham</td>\n",
       "      <td>Birmingham</td>\n",
       "      <td>AL</td>\n",
       "      <td>35294-0110</td>\n",
       "      <td>www.uab.edu</td>\n",
       "      <td>33.5022</td>\n",
       "      <td>-86.8092</td>\n",
       "      <td>0.8673</td>\n",
       "      <td>580.0</td>\n",
       "      <td>...</td>\n",
       "      <td>Medium full-time four-year, selective, higher ...</td>\n",
       "      <td>Large 4-year, primarily nonresidential (over 9...</td>\n",
       "      <td>?</td>\n",
       "      <td>0.64999997615814</td>\n",
       "      <td>0.25999999046325</td>\n",
       "      <td>49894.65</td>\n",
       "      <td>37400.0</td>\n",
       "      <td>33200.0</td>\n",
       "      <td>46300.0</td>\n",
       "      <td>40300.0</td>\n",
       "    </tr>\n",
       "    <tr>\n",
       "      <th>2</th>\n",
       "      <td>100690</td>\n",
       "      <td>Amridge University</td>\n",
       "      <td>Montgomery</td>\n",
       "      <td>AL</td>\n",
       "      <td>36117-3553</td>\n",
       "      <td>www.amridgeuniversity.edu</td>\n",
       "      <td>32.3626</td>\n",
       "      <td>-86.17399999999999</td>\n",
       "      <td>?</td>\n",
       "      <td>?</td>\n",
       "      <td>...</td>\n",
       "      <td>Medium full-time four-year, inclusivestudents ...</td>\n",
       "      <td>Very small 4-year, primarily nonresidential (l...</td>\n",
       "      <td>Churches of Christ</td>\n",
       "      <td>0.50999999046325</td>\n",
       "      <td>0.82999998331069</td>\n",
       "      <td>38712.18</td>\n",
       "      <td>38500.0</td>\n",
       "      <td>32800.0</td>\n",
       "      <td>42100.0</td>\n",
       "      <td>38100.0</td>\n",
       "    </tr>\n",
       "    <tr>\n",
       "      <th>3</th>\n",
       "      <td>100706</td>\n",
       "      <td>University of Alabama in Huntsville</td>\n",
       "      <td>Huntsville</td>\n",
       "      <td>AL</td>\n",
       "      <td>35899</td>\n",
       "      <td>www.uah.edu</td>\n",
       "      <td>34.7228</td>\n",
       "      <td>-86.6384</td>\n",
       "      <td>0.8062</td>\n",
       "      <td>575.0</td>\n",
       "      <td>...</td>\n",
       "      <td>Medium full-time four-year, selective, higher ...</td>\n",
       "      <td>Medium 4-year, primarily nonresidential (3,000...</td>\n",
       "      <td>?</td>\n",
       "      <td>0.55000001192092</td>\n",
       "      <td>0.28999999165534</td>\n",
       "      <td>54155.4</td>\n",
       "      <td>39300.0</td>\n",
       "      <td>36700.0</td>\n",
       "      <td>52700.0</td>\n",
       "      <td>46600.0</td>\n",
       "    </tr>\n",
       "    <tr>\n",
       "      <th>4</th>\n",
       "      <td>100724</td>\n",
       "      <td>Alabama State University</td>\n",
       "      <td>Montgomery</td>\n",
       "      <td>AL</td>\n",
       "      <td>36104-0271</td>\n",
       "      <td>www.alasu.edu/email/index.aspx</td>\n",
       "      <td>32.3643</td>\n",
       "      <td>-86.2957</td>\n",
       "      <td>0.5125</td>\n",
       "      <td>430.0</td>\n",
       "      <td>...</td>\n",
       "      <td>Full-time four-year, inclusive</td>\n",
       "      <td>Medium 4-year, primarily residential (3,000 to...</td>\n",
       "      <td>?</td>\n",
       "      <td>0.56999999284744</td>\n",
       "      <td>0.10999999940395</td>\n",
       "      <td>31846.99</td>\n",
       "      <td>21200.0</td>\n",
       "      <td>19300.0</td>\n",
       "      <td>30700.0</td>\n",
       "      <td>27800.0</td>\n",
       "    </tr>\n",
       "  </tbody>\n",
       "</table>\n",
       "<p>5 rows × 48 columns</p>\n",
       "</div>"
      ],
      "text/plain": [
       "   unit_id                          school_name        city state         zip  \\\n",
       "0   100654             Alabama A & M University      Normal    AL       35762   \n",
       "1   100663  University of Alabama at Birmingham  Birmingham    AL  35294-0110   \n",
       "2   100690                   Amridge University  Montgomery    AL  36117-3553   \n",
       "3   100706  University of Alabama in Huntsville  Huntsville    AL       35899   \n",
       "4   100724             Alabama State University  Montgomery    AL  36104-0271   \n",
       "\n",
       "                   school_webpage latitude           longitude admission_rate  \\\n",
       "0                   www.aamu.edu/  34.7834            -86.5685         0.8989   \n",
       "1                     www.uab.edu  33.5022            -86.8092         0.8673   \n",
       "2       www.amridgeuniversity.edu  32.3626  -86.17399999999999              ?   \n",
       "3                     www.uah.edu  34.7228            -86.6384         0.8062   \n",
       "4  www.alasu.edu/email/index.aspx  32.3643            -86.2957         0.5125   \n",
       "\n",
       "  sat_verbal_midrange  ...                             carnegie_undergraduate  \\\n",
       "0               410.0  ...                     Full-time four-year, inclusive   \n",
       "1               580.0  ...  Medium full-time four-year, selective, higher ...   \n",
       "2                   ?  ...  Medium full-time four-year, inclusivestudents ...   \n",
       "3               575.0  ...  Medium full-time four-year, selective, higher ...   \n",
       "4               430.0  ...                     Full-time four-year, inclusive   \n",
       "\n",
       "                                       carnegie_size religious_affiliation  \\\n",
       "0  Medium 4-year, highly residential (3,000 to 9,...                     ?   \n",
       "1  Large 4-year, primarily nonresidential (over 9...                     ?   \n",
       "2  Very small 4-year, primarily nonresidential (l...    Churches of Christ   \n",
       "3  Medium 4-year, primarily nonresidential (3,000...                     ?   \n",
       "4  Medium 4-year, primarily residential (3,000 to...                     ?   \n",
       "\n",
       "     percent_female           agege24    faminc mean_earnings_6_years  \\\n",
       "0  0.52999997138977  0.07999999821186  40211.22               26100.0   \n",
       "1  0.64999997615814  0.25999999046325  49894.65               37400.0   \n",
       "2  0.50999999046325  0.82999998331069  38712.18               38500.0   \n",
       "3  0.55000001192092  0.28999999165534   54155.4               39300.0   \n",
       "4  0.56999999284744  0.10999999940395  31846.99               21200.0   \n",
       "\n",
       "  median_earnings_6_years mean_earnings_10_years median_earnings_10_years  \n",
       "0                 22800.0                35300.0                  31400.0  \n",
       "1                 33200.0                46300.0                  40300.0  \n",
       "2                 32800.0                42100.0                  38100.0  \n",
       "3                 36700.0                52700.0                  46600.0  \n",
       "4                 19300.0                30700.0                  27800.0  \n",
       "\n",
       "[5 rows x 48 columns]"
      ]
     },
     "execution_count": 38,
     "metadata": {},
     "output_type": "execute_result"
    }
   ],
   "source": [
    "data = pd.read_csv(os.path.join(input_dir, inp_fname), quotechar=\"'\", skiprows=54, sep=\",\", header=None, names=cols)\n",
    "print(data.shape)\n",
    "data.head()"
   ]
  },
  {
   "cell_type": "code",
   "execution_count": 39,
   "id": "75b00a51",
   "metadata": {},
   "outputs": [],
   "source": [
    "id_col = \"unit_id\"\n",
    "target_col = \"percent_pell_grant\""
   ]
  },
  {
   "cell_type": "markdown",
   "id": "813f4e9f",
   "metadata": {},
   "source": [
    "# Prepare Data"
   ]
  },
  {
   "cell_type": "code",
   "execution_count": 40,
   "id": "16d1bf3a",
   "metadata": {},
   "outputs": [],
   "source": [
    "# Drop unwanted columns\n",
    "data.drop(columns=[\"school_name\", \"city\", \"zip\", \"school_webpage\", \"latitude\", \"longitude\"], inplace=True)"
   ]
  },
  {
   "cell_type": "code",
   "execution_count": 41,
   "id": "36dd4772",
   "metadata": {},
   "outputs": [],
   "source": [
    "data = data.replace(\"?\", np.nan)"
   ]
  },
  {
   "cell_type": "code",
   "execution_count": 42,
   "id": "bc10bc89",
   "metadata": {},
   "outputs": [
    {
     "name": "stdout",
     "output_type": "stream",
     "text": [
      "<class 'pandas.core.frame.DataFrame'>\n",
      "RangeIndex: 7063 entries, 0 to 7062\n",
      "Data columns (total 42 columns):\n",
      " #   Column                         Non-Null Count  Dtype  \n",
      "---  ------                         --------------  -----  \n",
      " 0   unit_id                        7063 non-null   int64  \n",
      " 1   state                          7063 non-null   object \n",
      " 2   admission_rate                 2216 non-null   object \n",
      " 3   sat_verbal_midrange            1300 non-null   object \n",
      " 4   sat_math_midrange              1314 non-null   object \n",
      " 5   sat_writing_midrange           793 non-null    object \n",
      " 6   act_combined_midrange          1341 non-null   object \n",
      " 7   act_english_midrange           1164 non-null   object \n",
      " 8   act_math_midrange              1165 non-null   object \n",
      " 9   act_writing_midrange           300 non-null    object \n",
      " 10  sat_total_average              1419 non-null   object \n",
      " 11  undergrad_size                 7062 non-null   object \n",
      " 12  percent_white                  7062 non-null   object \n",
      " 13  percent_black                  7062 non-null   object \n",
      " 14  percent_hispanic               7062 non-null   object \n",
      " 15  percent_asian                  7062 non-null   object \n",
      " 16  percent_part_time              7057 non-null   object \n",
      " 17  average_cost_academic_year     4135 non-null   object \n",
      " 18  average_cost_program_year      2541 non-null   object \n",
      " 19  tuition_(instate)              4137 non-null   object \n",
      " 20  tuition_(out_of_state)         4137 non-null   object \n",
      " 21  spend_per_student              7052 non-null   object \n",
      " 22  faculty_salary                 4391 non-null   object \n",
      " 23  percent_part_time_faculty      3902 non-null   object \n",
      " 24  percent_pell_grant             7063 non-null   float64\n",
      " 25  completion_rate                2446 non-null   object \n",
      " 26  predominant_degree             6988 non-null   object \n",
      " 27  highest_degree                 7063 non-null   object \n",
      " 28  ownership                      7063 non-null   object \n",
      " 29  region                         7063 non-null   object \n",
      " 30  gender                         7063 non-null   object \n",
      " 31  carnegie_basic_classification  4077 non-null   object \n",
      " 32  carnegie_undergraduate         3557 non-null   object \n",
      " 33  carnegie_size                  3558 non-null   object \n",
      " 34  religious_affiliation          803 non-null    object \n",
      " 35  percent_female                 5553 non-null   object \n",
      " 36  agege24                        5553 non-null   object \n",
      " 37  faminc                         5553 non-null   object \n",
      " 38  mean_earnings_6_years          5612 non-null   object \n",
      " 39  median_earnings_6_years        5612 non-null   object \n",
      " 40  mean_earnings_10_years         5327 non-null   object \n",
      " 41  median_earnings_10_years       5327 non-null   object \n",
      "dtypes: float64(1), int64(1), object(40)\n",
      "memory usage: 2.3+ MB\n"
     ]
    }
   ],
   "source": [
    "data.info()"
   ]
  },
  {
   "cell_type": "markdown",
   "id": "99303d21",
   "metadata": {},
   "source": [
    "# Insert Id Column"
   ]
  },
  {
   "cell_type": "code",
   "execution_count": 43,
   "id": "38e49eab",
   "metadata": {},
   "outputs": [],
   "source": [
    "# insert Id column \n",
    "if id_col not in data.columns:\n",
    "    N = data.shape[0]\n",
    "    data.insert(0, id_col, np.arange(N))\n",
    "    print(data.head())\n",
    "data[id_col] = data[id_col].astype(str)"
   ]
  },
  {
   "cell_type": "code",
   "execution_count": 44,
   "id": "1f0fcf5b",
   "metadata": {},
   "outputs": [],
   "source": [
    "# reorganize columns \n",
    "cols = [id_col] + list(data.columns.difference([id_col, target_col])) + [target_col]\n",
    "data = data[cols]"
   ]
  },
  {
   "cell_type": "code",
   "execution_count": 47,
   "id": "66805cae",
   "metadata": {},
   "outputs": [
    {
     "data": {
      "text/plain": [
       "Index(['unit_id', 'act_combined_midrange', 'act_english_midrange',\n",
       "       'act_math_midrange', 'act_writing_midrange', 'admission_rate',\n",
       "       'agege24', 'average_cost_academic_year', 'average_cost_program_year',\n",
       "       'carnegie_basic_classification', 'carnegie_size',\n",
       "       'carnegie_undergraduate', 'completion_rate', 'faculty_salary', 'faminc',\n",
       "       'gender', 'highest_degree', 'mean_earnings_10_years',\n",
       "       'mean_earnings_6_years', 'median_earnings_10_years',\n",
       "       'median_earnings_6_years', 'ownership', 'percent_asian',\n",
       "       'percent_black', 'percent_female', 'percent_hispanic',\n",
       "       'percent_part_time', 'percent_part_time_faculty', 'percent_white',\n",
       "       'predominant_degree', 'region', 'religious_affiliation',\n",
       "       'sat_math_midrange', 'sat_total_average', 'sat_verbal_midrange',\n",
       "       'sat_writing_midrange', 'spend_per_student', 'state',\n",
       "       'tuition_(instate)', 'tuition_(out_of_state)', 'undergrad_size',\n",
       "       'percent_pell_grant'],\n",
       "      dtype='object')"
      ]
     },
     "execution_count": 47,
     "metadata": {},
     "output_type": "execute_result"
    }
   ],
   "source": [
    "data.columns"
   ]
  },
  {
   "cell_type": "code",
   "execution_count": 45,
   "id": "3618cea2",
   "metadata": {},
   "outputs": [
    {
     "data": {
      "text/plain": [
       "(7063, 42)"
      ]
     },
     "execution_count": 45,
     "metadata": {},
     "output_type": "execute_result"
    }
   ],
   "source": [
    "data.shape"
   ]
  },
  {
   "cell_type": "markdown",
   "id": "c6336a34",
   "metadata": {},
   "source": [
    "# Save Main Data File"
   ]
  },
  {
   "cell_type": "code",
   "execution_count": 46,
   "id": "a21dfca3",
   "metadata": {},
   "outputs": [],
   "source": [
    "data.to_csv(outp_fname, index=False)"
   ]
  },
  {
   "cell_type": "code",
   "execution_count": null,
   "id": "e011b686",
   "metadata": {},
   "outputs": [],
   "source": []
  }
 ],
 "metadata": {
  "kernelspec": {
   "display_name": "Python 3 (ipykernel)",
   "language": "python",
   "name": "python3"
  },
  "language_info": {
   "codemirror_mode": {
    "name": "ipython",
    "version": 3
   },
   "file_extension": ".py",
   "mimetype": "text/x-python",
   "name": "python",
   "nbconvert_exporter": "python",
   "pygments_lexer": "ipython3",
   "version": "3.9.13"
  }
 },
 "nbformat": 4,
 "nbformat_minor": 5
}
