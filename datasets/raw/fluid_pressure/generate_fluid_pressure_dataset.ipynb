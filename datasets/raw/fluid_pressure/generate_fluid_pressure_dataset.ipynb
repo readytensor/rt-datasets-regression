{
 "cells": [
  {
   "cell_type": "markdown",
   "id": "2dc97e6b",
   "metadata": {},
   "source": [
    "# Fluid Dynamics Pressure Estimation Dataset\n",
    "\n",
    "This synthetic dataset encapsulates a regression problem rooted in fluid dynamics principles, specifically Bernoulli's equation for fluid flow. Each sample in the dataset carries a unique identifier, a set of fluid properties, and a target pressure value.\n",
    "\n",
    "The fluid properties encompass:\n",
    "- Fluid density, which represents the mass of the fluid per unit volume.\n",
    "- Fluid velocity, indicating the speed at which the fluid is flowing.\n",
    "- Height, representing the elevation or depth at which the pressure is measured.\n",
    "- A categorical feature named 'body', denoting the celestial body, like Earth, Mars, or Jupiter. This abstractly signifies the gravitational acceleration affecting the fluid.\n",
    "\n",
    "The target value for each sample is the pressure, computed based on Bernoulli's equation. The equation accounts for kinetic energy, potential energy due to gravity, and a constant term to determine the fluid's pressure.\n",
    "\n",
    "To introduce complexity and simulate real-world imperfections, the dataset contains missing values. Approximately 5% of the data points across the features might be absent. This necessitates handling or imputation techniques, especially crucial for algorithms that cannot inherently manage missing data.\n",
    "\n",
    "The sample identifiers are sequential integers, beginning from 0, ensuring a unique reference for each data entry.\n",
    "\n",
    "In essence, this dataset embodies a regression challenge where the objective is to estimate fluid pressure given a set of fluid properties and conditions. The inherent physical relationships, combined with the abstract representation of gravitational forces and the presence of missing values, render it an intricate task for regression models.\n"
   ]
  },
  {
   "cell_type": "code",
   "execution_count": 1,
   "id": "ca51452c",
   "metadata": {},
   "outputs": [],
   "source": [
    "from typing import Tuple, Optional\n",
    "import pandas as pd\n",
    "import numpy as np\n",
    "import os"
   ]
  },
  {
   "cell_type": "code",
   "execution_count": 2,
   "id": "5c193718",
   "metadata": {},
   "outputs": [],
   "source": [
    "dataset_name = \"fluid_pressure\""
   ]
  },
  {
   "cell_type": "code",
   "execution_count": 3,
   "id": "c34ce269",
   "metadata": {},
   "outputs": [],
   "source": [
    "output_dir = f'./../../processed/{dataset_name}/'\n",
    "outp_fname = os.path.join(output_dir, f'{dataset_name}.csv')"
   ]
  },
  {
   "cell_type": "markdown",
   "id": "1c93e874",
   "metadata": {},
   "source": [
    "# Generation functions"
   ]
  },
  {
   "cell_type": "code",
   "execution_count": 4,
   "id": "037b6d79",
   "metadata": {},
   "outputs": [],
   "source": [
    "def set_random_seeds(seed: int = 7) -> None:\n",
    "    \"\"\"\n",
    "    Set seeds for reproducibility.\n",
    "\n",
    "    Args:\n",
    "        seed (int): The seed value to set for numpy's random operations.\n",
    "    \"\"\"\n",
    "    np.random.seed(seed)"
   ]
  },
  {
   "cell_type": "code",
   "execution_count": 5,
   "id": "e4fc0c2e",
   "metadata": {},
   "outputs": [],
   "source": [
    "def generate_fluid_dataset(\n",
    "    N: int = 1000,\n",
    "    density_range: Tuple[float, float] = (1000, 13600),\n",
    "    velocity_range: Tuple[float, float] = (0, 50),\n",
    "    height_range: Tuple[float, float] = (0, 100),\n",
    "    bodies: Tuple[str, ...] = ('Earth', 'Moon', 'Mars', 'Jupiter', 'Venus', 'Saturn'),\n",
    "    constant_term: float = 1,  # in bars, equivalent to 1e5 Pa\n",
    "    missing_percentage: Optional[float] = None\n",
    ") -> pd.DataFrame:\n",
    "    \"\"\"\n",
    "    Generate a synthetic dataset based on Bernoulli's equation for fluid flow with pressure in bars.\n",
    "    \n",
    "    Args:\n",
    "    - N (int): Number of data points.\n",
    "    - density_range (tuple): Min and max fluid density in kg/m^3.\n",
    "    - velocity_range (tuple): Min and max fluid velocity in m/s.\n",
    "    - height_range (tuple): Min and max height in meters.\n",
    "    - bodies (tuple): Names of celestial bodies used for gravitational acceleration.\n",
    "    - constant_term (float): Constant term used in Bernoulli's equation in bars.\n",
    "    - missing_percentage (float, optional): Percentage of missing values to introduce to the dataset.\n",
    "    \n",
    "    Returns:\n",
    "    - pd.DataFrame: Generated dataset.\n",
    "    \"\"\"\n",
    "    \n",
    "    # Gravitational accelerations mapping\n",
    "    gravitational_map = {\n",
    "        'Earth': 9.81,\n",
    "        'Moon': 1.625,\n",
    "        'Mars': 3.71,\n",
    "        'Jupiter': 24.79,\n",
    "        'Venus': 8.87,\n",
    "        'Saturn': 10.44\n",
    "    }\n",
    "    \n",
    "    # Fluid density\n",
    "    rho = np.random.uniform(*density_range, N)\n",
    "\n",
    "    # Fluid velocity\n",
    "    v = np.random.uniform(*velocity_range, N)\n",
    "\n",
    "    # Celestial body and its gravitational acceleration\n",
    "    body = np.random.choice(bodies, N)\n",
    "    g = np.array([gravitational_map[b] for b in body])\n",
    "\n",
    "    # Height\n",
    "    h = np.random.uniform(*height_range, N)\n",
    "\n",
    "    # Compute pressure using Bernoulli's equation in bars\n",
    "    P = constant_term - 0.5 * rho * v**2 / 1e5 - rho * g * h / 1e5\n",
    "\n",
    "    # Create DataFrame\n",
    "    df = pd.DataFrame({\n",
    "        'id': np.arange(N),\n",
    "        'fluid_density': rho,\n",
    "        'fluid_velocity': v,\n",
    "        'body': body,\n",
    "        'height': h,\n",
    "        'pressure_bars': P\n",
    "    })\n",
    "\n",
    "    # Introduce missing values if required (excluding target variable)\n",
    "    if missing_percentage:\n",
    "        num_missing = int(missing_percentage * N)\n",
    "        for column in df.columns.difference(['id', 'pressure_bars']):\n",
    "            missing_indices = np.random.choice(df.index, num_missing, replace=False)\n",
    "            df.loc[missing_indices, column] = np.nan\n",
    "\n",
    "    return df\n"
   ]
  },
  {
   "cell_type": "markdown",
   "id": "ac324059",
   "metadata": {},
   "source": [
    "# Create dataset"
   ]
  },
  {
   "cell_type": "code",
   "execution_count": 6,
   "id": "0f48353d",
   "metadata": {},
   "outputs": [
    {
     "name": "stdout",
     "output_type": "stream",
     "text": [
      "(2400, 6)\n"
     ]
    },
    {
     "data": {
      "text/html": [
       "<div>\n",
       "<style scoped>\n",
       "    .dataframe tbody tr th:only-of-type {\n",
       "        vertical-align: middle;\n",
       "    }\n",
       "\n",
       "    .dataframe tbody tr th {\n",
       "        vertical-align: top;\n",
       "    }\n",
       "\n",
       "    .dataframe thead th {\n",
       "        text-align: right;\n",
       "    }\n",
       "</style>\n",
       "<table border=\"1\" class=\"dataframe\">\n",
       "  <thead>\n",
       "    <tr style=\"text-align: right;\">\n",
       "      <th></th>\n",
       "      <th>id</th>\n",
       "      <th>fluid_density</th>\n",
       "      <th>fluid_velocity</th>\n",
       "      <th>body</th>\n",
       "      <th>height</th>\n",
       "      <th>pressure_bars</th>\n",
       "    </tr>\n",
       "  </thead>\n",
       "  <tbody>\n",
       "    <tr>\n",
       "      <th>0</th>\n",
       "      <td>0</td>\n",
       "      <td>1961.484446</td>\n",
       "      <td>14.243012</td>\n",
       "      <td>Mars</td>\n",
       "      <td>26.358794</td>\n",
       "      <td>-2.907725</td>\n",
       "    </tr>\n",
       "    <tr>\n",
       "      <th>1</th>\n",
       "      <td>1</td>\n",
       "      <td>NaN</td>\n",
       "      <td>27.875967</td>\n",
       "      <td>Saturn</td>\n",
       "      <td>75.420882</td>\n",
       "      <td>-126.317536</td>\n",
       "    </tr>\n",
       "    <tr>\n",
       "      <th>2</th>\n",
       "      <td>2</td>\n",
       "      <td>6523.956316</td>\n",
       "      <td>26.177745</td>\n",
       "      <td>Saturn</td>\n",
       "      <td>3.149047</td>\n",
       "      <td>-23.498318</td>\n",
       "    </tr>\n",
       "    <tr>\n",
       "      <th>3</th>\n",
       "      <td>3</td>\n",
       "      <td>10115.661241</td>\n",
       "      <td>26.224657</td>\n",
       "      <td>Saturn</td>\n",
       "      <td>32.559694</td>\n",
       "      <td>-68.169832</td>\n",
       "    </tr>\n",
       "    <tr>\n",
       "      <th>4</th>\n",
       "      <td>4</td>\n",
       "      <td>13322.667851</td>\n",
       "      <td>17.199644</td>\n",
       "      <td>Earth</td>\n",
       "      <td>80.118540</td>\n",
       "      <td>-123.417298</td>\n",
       "    </tr>\n",
       "  </tbody>\n",
       "</table>\n",
       "</div>"
      ],
      "text/plain": [
       "   id  fluid_density  fluid_velocity    body     height  pressure_bars\n",
       "0   0    1961.484446       14.243012    Mars  26.358794      -2.907725\n",
       "1   1            NaN       27.875967  Saturn  75.420882    -126.317536\n",
       "2   2    6523.956316       26.177745  Saturn   3.149047     -23.498318\n",
       "3   3   10115.661241       26.224657  Saturn  32.559694     -68.169832\n",
       "4   4   13322.667851       17.199644   Earth  80.118540    -123.417298"
      ]
     },
     "execution_count": 6,
     "metadata": {},
     "output_type": "execute_result"
    }
   ],
   "source": [
    "# Generate and display the dataset\n",
    "set_random_seeds()\n",
    "data = generate_fluid_dataset(N=2400, missing_percentage=0.05)\n",
    "print(data.shape)\n",
    "data.head()\n"
   ]
  },
  {
   "cell_type": "markdown",
   "id": "e94759f8",
   "metadata": {},
   "source": [
    "# Save Main Data File"
   ]
  },
  {
   "cell_type": "code",
   "execution_count": 7,
   "id": "59429d82",
   "metadata": {},
   "outputs": [],
   "source": [
    "data.to_csv(outp_fname, index=False, float_format=\"%.6f\")"
   ]
  },
  {
   "cell_type": "code",
   "execution_count": null,
   "id": "8331e5dd",
   "metadata": {},
   "outputs": [],
   "source": []
  }
 ],
 "metadata": {
  "kernelspec": {
   "display_name": "Python 3 (ipykernel)",
   "language": "python",
   "name": "python3"
  },
  "language_info": {
   "codemirror_mode": {
    "name": "ipython",
    "version": 3
   },
   "file_extension": ".py",
   "mimetype": "text/x-python",
   "name": "python",
   "nbconvert_exporter": "python",
   "pygments_lexer": "ipython3",
   "version": "3.9.13"
  }
 },
 "nbformat": 4,
 "nbformat_minor": 5
}
