{
 "cells": [
  {
   "cell_type": "markdown",
   "id": "5d432478",
   "metadata": {},
   "source": [
    "# Sine Wave Regression Dataset\n",
    "\n",
    "\n",
    "This synthetic dataset presents a regression problem based on time steps from a sine wave and a continuous target value. Each sample in the dataset has a unique identifier, a set of time steps (or epochs), and a target value.\n",
    "\n",
    "The time steps represent sequential observations of a sine function. These observations are continuous values resulting from the sine function, which can range between -1 and 1.\n",
    "\n",
    "The target value for each sample is the sine value of the point immediately following the last time step. This forms a regression problem, where the task is to predict the next sine value based on the given time steps.\n",
    "\n",
    "The intervals between the time steps can either be constant for all samples (equidistant intervals) or can vary between samples. When we refer to \"varying between samples,\" it means that the interval length is specific to each sample, but remains constant within that sample. The interval is randomly chosen between \\( $\\pi$/8 \\) and \\( $\\pi$/4 \\) for such samples. This introduces variability in the data and poses challenges in capturing the sequential nature of the sine wave.\n",
    "\n",
    "To add complexity to the dataset, Gaussian noise is added to each observation, perturbing the sine values and making the prediction task more challenging.\n",
    "\n",
    "Furthermore, approximately 5\\% of the data points in each time step might be replaced with missing values. This simulates real-world scenarios where sequential data might have gaps or missing entries. Handling these missing values becomes crucial for predictive modeling.\n",
    "\n",
    "The identifiers for the samples are sequential integers, starting from 0. They are used to uniquely identify each sample in the dataset.\n",
    "\n",
    "In summary, this dataset presents a regression problem, where the task is to predict the next sine value based on given observations from a sine wave. The known mathematical relationship between the time steps, combined with noise and missing values, makes it a challenging task for regression algorithms.\n",
    "\n"
   ]
  },
  {
   "cell_type": "code",
   "execution_count": 24,
   "id": "183b610d",
   "metadata": {},
   "outputs": [],
   "source": [
    "import numpy as np\n",
    "import os\n",
    "import pandas as pd\n",
    "import matplotlib.pyplot as plt"
   ]
  },
  {
   "cell_type": "code",
   "execution_count": 25,
   "id": "890592db",
   "metadata": {},
   "outputs": [],
   "source": [
    "dataset_name = \"sine_waves\""
   ]
  },
  {
   "cell_type": "code",
   "execution_count": 26,
   "id": "608f1c9d",
   "metadata": {},
   "outputs": [],
   "source": [
    "output_dir = f'./../../processed/{dataset_name}/'\n",
    "outp_fname = os.path.join(output_dir, f'{dataset_name}.csv')"
   ]
  },
  {
   "cell_type": "markdown",
   "id": "b2e2435e",
   "metadata": {},
   "source": [
    "# Generation functions"
   ]
  },
  {
   "cell_type": "code",
   "execution_count": 27,
   "id": "22159f83",
   "metadata": {},
   "outputs": [],
   "source": [
    "def set_random_seeds(seed: int = 42) -> None:\n",
    "    \"\"\"\n",
    "    Set seeds for reproducibility.\n",
    "\n",
    "    Args:\n",
    "        seed (int): The seed value to set for numpy's random operations.\n",
    "    \"\"\"\n",
    "    np.random.seed(seed)"
   ]
  },
  {
   "cell_type": "code",
   "execution_count": 39,
   "id": "cc7e71ee",
   "metadata": {},
   "outputs": [],
   "source": [
    "def generate_sine_wave_dataset(\n",
    "        samples: int = 250, \n",
    "        time_steps: int = 10, \n",
    "        equidistant: bool = True, \n",
    "        noise_std: float = 0.05, \n",
    "        missing_prob: float = 0.05\n",
    "    ) -> pd.DataFrame:\n",
    "    \"\"\"\n",
    "    Generate a synthetic dataset based on sine wave with Gaussian noise and missing values.\n",
    "\n",
    "    Args:\n",
    "        samples (int): Number of samples to generate.\n",
    "        time_steps (int): Number of time steps or epochs for each sample.\n",
    "        equidistant (bool): Whether to sample points at equal distances for all samples or vary across samples.\n",
    "        noise_std (float): Standard deviation of Gaussian noise to be added.\n",
    "        missing_prob (float): Probability of a time step being missing.\n",
    "\n",
    "    Returns:\n",
    "        pd.DataFrame: DataFrame with time steps, target column, and a unique ID.\n",
    "    \"\"\"\n",
    "\n",
    "    dataset = []\n",
    "\n",
    "    # If equidistant is True, set a global step size for all samples\n",
    "    global_step = np.random.uniform(np.pi/8, np.pi/4) if equidistant else None\n",
    "\n",
    "    for sample_id in range(samples):\n",
    "        if not equidistant:\n",
    "            # Define a random time step for each sample\n",
    "            step = np.random.uniform(np.pi/8, np.pi/4)\n",
    "        else:\n",
    "            step = global_step\n",
    "\n",
    "        # Generate a starting point randomly\n",
    "        start = np.random.rand() * 2 * np.pi\n",
    "        x = np.array([start + i * step for i in range(time_steps + 1)])\n",
    "\n",
    "        y = np.sin(x)\n",
    "\n",
    "        # Adding Gaussian noise\n",
    "        y = y + np.random.normal(0, noise_std, size=y.shape)\n",
    "\n",
    "        # Introducing missing values with the given probability for the time steps only\n",
    "        mask = np.random.rand(time_steps) < missing_prob\n",
    "        y[:-1][mask] = np.nan  # Not affecting the target\n",
    "\n",
    "        # The target is the sine value of the last point\n",
    "        target = y[-1]\n",
    "        time_step_values = y[:-1]\n",
    "\n",
    "        dataset.append([sample_id] + list(time_step_values) + [target])\n",
    "\n",
    "    columns = ['sample_id'] + [f'time_step_{i+1}' for i in range(time_steps)] + ['target']\n",
    "    dataset_df = pd.DataFrame(dataset, columns=columns)\n",
    "\n",
    "    return dataset_df"
   ]
  },
  {
   "cell_type": "markdown",
   "id": "e7ccaa5a",
   "metadata": {},
   "source": [
    "# Create Data"
   ]
  },
  {
   "cell_type": "code",
   "execution_count": 42,
   "id": "bac59294",
   "metadata": {},
   "outputs": [
    {
     "name": "stdout",
     "output_type": "stream",
     "text": [
      "   sample_id  time_step_1  time_step_2  time_step_3  time_step_4  time_step_5  \\\n",
      "0          0    -0.159806    -0.587408    -0.883406    -0.894938    -0.798608   \n",
      "1          1    -0.879048    -0.595693    -0.111219     0.284805     0.741500   \n",
      "2          2     0.051104    -0.559415    -0.884685    -0.979616    -0.683902   \n",
      "3          3     0.589623     0.992684     0.930968     0.651379    -0.072234   \n",
      "4          4     0.033547    -0.605922    -0.981180    -0.953283    -0.551214   \n",
      "\n",
      "   time_step_6  time_step_7  time_step_8  time_step_9  time_step_10    target  \n",
      "0    -0.414275     0.108334     0.550557     1.007746      1.056075  0.754220  \n",
      "1     0.924234     0.998702          NaN     0.414577     -0.030452 -0.470011  \n",
      "2    -0.164116     0.340422     0.798744     1.055758      0.766334  0.361173  \n",
      "3    -0.721484    -0.984191    -0.874041    -0.410750      0.220960  0.764105  \n",
      "4    -0.241165     0.443813     0.893067     1.027981      0.798458  0.370477  \n"
     ]
    }
   ],
   "source": [
    "# Example of setting random seeds\n",
    "set_random_seeds(17)\n",
    "\n",
    "# Just returning the code without executing it\n",
    "data = generate_sine_wave_dataset(\n",
    "    samples=250, time_steps=10, equidistant=False, noise_std=0.05,\n",
    "    missing_prob = 0.05\n",
    ")\n",
    "\n",
    "print(data.head())"
   ]
  },
  {
   "cell_type": "markdown",
   "id": "d4d36d4e",
   "metadata": {},
   "source": [
    "# Visualize Data"
   ]
  },
  {
   "cell_type": "code",
   "execution_count": 43,
   "id": "baf8f095",
   "metadata": {},
   "outputs": [],
   "source": [
    "def plot_sample(dataset_df: pd.DataFrame, sample_id: int) -> None:\n",
    "    \"\"\"\n",
    "    Plot a given sample from the dataset.\n",
    "\n",
    "    Args:\n",
    "        dataset_df (pd.DataFrame): The dataset DataFrame.\n",
    "        sample_id (int): The ID of the sample to be plotted.\n",
    "    \"\"\"\n",
    "\n",
    "    sample_data = dataset_df[dataset_df['sample_id'] == sample_id].iloc[0]\n",
    "    x = list(range(len(sample_data) - 2))  # Excluding sample_id and target\n",
    "    y = sample_data[1:-1].values  # Excluding sample_id and target\n",
    "\n",
    "    plt.figure(figsize=(10, 5))\n",
    "    plt.plot(x, y, 'o-', label='Features')\n",
    "    plt.plot(len(x), sample_data['target'], 'ro', label='Target')\n",
    "    plt.title(f'Sample ID: {sample_id}')\n",
    "    plt.xlabel('Feature Number')\n",
    "    plt.ylabel('Value')\n",
    "    plt.legend()\n",
    "    plt.grid(True)\n",
    "    plt.show()"
   ]
  },
  {
   "cell_type": "code",
   "execution_count": 44,
   "id": "12bdc676",
   "metadata": {},
   "outputs": [
    {
     "data": {
      "image/png": "[encoded data removed]",
      "text/plain": [
       "<Figure size 1000x500 with 1 Axes>"
      ]
     },
     "metadata": {},
     "output_type": "display_data"
    }
   ],
   "source": [
    "plot_sample(data, sample_id=1)"
   ]
  },
  {
   "cell_type": "markdown",
   "id": "65eda6a1",
   "metadata": {},
   "source": [
    "# Save Main Data File"
   ]
  },
  {
   "cell_type": "code",
   "execution_count": 46,
   "id": "bb7a664a",
   "metadata": {},
   "outputs": [],
   "source": [
    "data.to_csv(outp_fname, index=False, float_format=\"%.4f\")"
   ]
  },
  {
   "cell_type": "code",
   "execution_count": null,
   "id": "1a4f7408",
   "metadata": {},
   "outputs": [],
   "source": []
  }
 ],
 "metadata": {
  "kernelspec": {
   "display_name": "Python 3 (ipykernel)",
   "language": "python",
   "name": "python3"
  },
  "language_info": {
   "codemirror_mode": {
    "name": "ipython",
    "version": 3
   },
   "file_extension": ".py",
   "mimetype": "text/x-python",
   "name": "python",
   "nbconvert_exporter": "python",
   "pygments_lexer": "ipython3",
   "version": "3.9.13"
  }
 },
 "nbformat": 4,
 "nbformat_minor": 5
}
