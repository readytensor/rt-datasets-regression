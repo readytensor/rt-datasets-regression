{
 "cells": [
  {
   "cell_type": "code",
   "execution_count": 12,
   "id": "83c4270b",
   "metadata": {},
   "outputs": [],
   "source": [
    "import numpy as np \n",
    "import pandas as pd \n",
    "import os \n",
    "import json\n",
    "import pprint"
   ]
  },
  {
   "cell_type": "code",
   "execution_count": 13,
   "id": "188cd71f",
   "metadata": {},
   "outputs": [],
   "source": [
    "dataset_name = 'white_wine'"
   ]
  },
  {
   "cell_type": "code",
   "execution_count": 14,
   "id": "2844f9c9",
   "metadata": {},
   "outputs": [],
   "source": [
    "input_dir = './raw'\n",
    "output_dir = './processed'\n",
    "\n",
    "inp_fname = 'winequality-white.csv'\n",
    "\n",
    "outp_fname = os.path.join(output_dir, f'{dataset_name}.csv')\n",
    "outp_train_fname = os.path.join(output_dir, f'{dataset_name}_train.csv')\n",
    "outp_test_fname = os.path.join(output_dir, f'{dataset_name}_test.csv')\n",
    "outp_test_key_fname = os.path.join(output_dir, f'{dataset_name}_test_key.csv')\n",
    "outp_infer_instances = os.path.join(output_dir, f'{dataset_name}_infer_req.json')"
   ]
  },
  {
   "cell_type": "markdown",
   "id": "2db42eb2",
   "metadata": {},
   "source": [
    "# Read Data"
   ]
  },
  {
   "cell_type": "code",
   "execution_count": 15,
   "id": "76a2ce8d",
   "metadata": {},
   "outputs": [],
   "source": [
    "col_names = [\n",
    "    \"fixed acidity\",\n",
    "    \"volatile acidity\",\n",
    "    \"citric acid\",\n",
    "    \"residual sugar\",\n",
    "    \"chlorides\",\n",
    "    \"free sulfur dioxide\",\n",
    "    \"total sulfur dioxide\",\n",
    "    \"density\",\n",
    "    \"pH\",\n",
    "    \"sulphates\",\n",
    "    \"alcohol\",\n",
    "    \"quality\"  \n",
    "]"
   ]
  },
  {
   "cell_type": "code",
   "execution_count": 16,
   "id": "22df4627",
   "metadata": {},
   "outputs": [
    {
     "data": {
      "text/html": [
       "<div>\n",
       "<style scoped>\n",
       "    .dataframe tbody tr th:only-of-type {\n",
       "        vertical-align: middle;\n",
       "    }\n",
       "\n",
       "    .dataframe tbody tr th {\n",
       "        vertical-align: top;\n",
       "    }\n",
       "\n",
       "    .dataframe thead th {\n",
       "        text-align: right;\n",
       "    }\n",
       "</style>\n",
       "<table border=\"1\" class=\"dataframe\">\n",
       "  <thead>\n",
       "    <tr style=\"text-align: right;\">\n",
       "      <th></th>\n",
       "      <th>fixed acidity</th>\n",
       "      <th>volatile acidity</th>\n",
       "      <th>citric acid</th>\n",
       "      <th>residual sugar</th>\n",
       "      <th>chlorides</th>\n",
       "      <th>free sulfur dioxide</th>\n",
       "      <th>total sulfur dioxide</th>\n",
       "      <th>density</th>\n",
       "      <th>pH</th>\n",
       "      <th>sulphates</th>\n",
       "      <th>alcohol</th>\n",
       "      <th>quality</th>\n",
       "    </tr>\n",
       "  </thead>\n",
       "  <tbody>\n",
       "    <tr>\n",
       "      <th>0</th>\n",
       "      <td>7.0</td>\n",
       "      <td>0.27</td>\n",
       "      <td>0.36</td>\n",
       "      <td>20.7</td>\n",
       "      <td>0.045</td>\n",
       "      <td>45.0</td>\n",
       "      <td>170.0</td>\n",
       "      <td>1.0010</td>\n",
       "      <td>3.00</td>\n",
       "      <td>0.45</td>\n",
       "      <td>8.8</td>\n",
       "      <td>6</td>\n",
       "    </tr>\n",
       "    <tr>\n",
       "      <th>1</th>\n",
       "      <td>6.3</td>\n",
       "      <td>0.30</td>\n",
       "      <td>0.34</td>\n",
       "      <td>1.6</td>\n",
       "      <td>0.049</td>\n",
       "      <td>14.0</td>\n",
       "      <td>132.0</td>\n",
       "      <td>0.9940</td>\n",
       "      <td>3.30</td>\n",
       "      <td>0.49</td>\n",
       "      <td>9.5</td>\n",
       "      <td>6</td>\n",
       "    </tr>\n",
       "    <tr>\n",
       "      <th>2</th>\n",
       "      <td>8.1</td>\n",
       "      <td>0.28</td>\n",
       "      <td>0.40</td>\n",
       "      <td>6.9</td>\n",
       "      <td>0.050</td>\n",
       "      <td>30.0</td>\n",
       "      <td>97.0</td>\n",
       "      <td>0.9951</td>\n",
       "      <td>3.26</td>\n",
       "      <td>0.44</td>\n",
       "      <td>10.1</td>\n",
       "      <td>6</td>\n",
       "    </tr>\n",
       "    <tr>\n",
       "      <th>3</th>\n",
       "      <td>7.2</td>\n",
       "      <td>0.23</td>\n",
       "      <td>0.32</td>\n",
       "      <td>8.5</td>\n",
       "      <td>0.058</td>\n",
       "      <td>47.0</td>\n",
       "      <td>186.0</td>\n",
       "      <td>0.9956</td>\n",
       "      <td>3.19</td>\n",
       "      <td>0.40</td>\n",
       "      <td>9.9</td>\n",
       "      <td>6</td>\n",
       "    </tr>\n",
       "    <tr>\n",
       "      <th>4</th>\n",
       "      <td>7.2</td>\n",
       "      <td>0.23</td>\n",
       "      <td>0.32</td>\n",
       "      <td>8.5</td>\n",
       "      <td>0.058</td>\n",
       "      <td>47.0</td>\n",
       "      <td>186.0</td>\n",
       "      <td>0.9956</td>\n",
       "      <td>3.19</td>\n",
       "      <td>0.40</td>\n",
       "      <td>9.9</td>\n",
       "      <td>6</td>\n",
       "    </tr>\n",
       "  </tbody>\n",
       "</table>\n",
       "</div>"
      ],
      "text/plain": [
       "   fixed acidity  volatile acidity  citric acid  residual sugar  chlorides  \\\n",
       "0            7.0              0.27         0.36            20.7      0.045   \n",
       "1            6.3              0.30         0.34             1.6      0.049   \n",
       "2            8.1              0.28         0.40             6.9      0.050   \n",
       "3            7.2              0.23         0.32             8.5      0.058   \n",
       "4            7.2              0.23         0.32             8.5      0.058   \n",
       "\n",
       "   free sulfur dioxide  total sulfur dioxide  density    pH  sulphates  \\\n",
       "0                 45.0                 170.0   1.0010  3.00       0.45   \n",
       "1                 14.0                 132.0   0.9940  3.30       0.49   \n",
       "2                 30.0                  97.0   0.9951  3.26       0.44   \n",
       "3                 47.0                 186.0   0.9956  3.19       0.40   \n",
       "4                 47.0                 186.0   0.9956  3.19       0.40   \n",
       "\n",
       "   alcohol  quality  \n",
       "0      8.8        6  \n",
       "1      9.5        6  \n",
       "2     10.1        6  \n",
       "3      9.9        6  \n",
       "4      9.9        6  "
      ]
     },
     "execution_count": 16,
     "metadata": {},
     "output_type": "execute_result"
    }
   ],
   "source": [
    "data = pd.read_csv(os.path.join(input_dir, inp_fname), header=None, names=col_names, skiprows=1, sep=';')\n",
    "data.head()"
   ]
  },
  {
   "cell_type": "code",
   "execution_count": 17,
   "id": "29dbf659",
   "metadata": {},
   "outputs": [],
   "source": [
    "id_col = \"id\"\n",
    "target_col = \"quality\""
   ]
  },
  {
   "cell_type": "markdown",
   "id": "f308b3c1",
   "metadata": {},
   "source": [
    "# Shuffle Data"
   ]
  },
  {
   "cell_type": "code",
   "execution_count": 18,
   "id": "0ac3ce66",
   "metadata": {},
   "outputs": [
    {
     "data": {
      "text/html": [
       "<div>\n",
       "<style scoped>\n",
       "    .dataframe tbody tr th:only-of-type {\n",
       "        vertical-align: middle;\n",
       "    }\n",
       "\n",
       "    .dataframe tbody tr th {\n",
       "        vertical-align: top;\n",
       "    }\n",
       "\n",
       "    .dataframe thead th {\n",
       "        text-align: right;\n",
       "    }\n",
       "</style>\n",
       "<table border=\"1\" class=\"dataframe\">\n",
       "  <thead>\n",
       "    <tr style=\"text-align: right;\">\n",
       "      <th></th>\n",
       "      <th>fixed acidity</th>\n",
       "      <th>volatile acidity</th>\n",
       "      <th>citric acid</th>\n",
       "      <th>residual sugar</th>\n",
       "      <th>chlorides</th>\n",
       "      <th>free sulfur dioxide</th>\n",
       "      <th>total sulfur dioxide</th>\n",
       "      <th>density</th>\n",
       "      <th>pH</th>\n",
       "      <th>sulphates</th>\n",
       "      <th>alcohol</th>\n",
       "      <th>quality</th>\n",
       "    </tr>\n",
       "  </thead>\n",
       "  <tbody>\n",
       "    <tr>\n",
       "      <th>4656</th>\n",
       "      <td>6.0</td>\n",
       "      <td>0.29</td>\n",
       "      <td>0.41</td>\n",
       "      <td>10.8</td>\n",
       "      <td>0.048</td>\n",
       "      <td>55.0</td>\n",
       "      <td>149.0</td>\n",
       "      <td>0.99370</td>\n",
       "      <td>3.09</td>\n",
       "      <td>0.59</td>\n",
       "      <td>10.966667</td>\n",
       "      <td>7</td>\n",
       "    </tr>\n",
       "    <tr>\n",
       "      <th>3659</th>\n",
       "      <td>5.4</td>\n",
       "      <td>0.53</td>\n",
       "      <td>0.16</td>\n",
       "      <td>2.7</td>\n",
       "      <td>0.036</td>\n",
       "      <td>34.0</td>\n",
       "      <td>128.0</td>\n",
       "      <td>0.98856</td>\n",
       "      <td>3.20</td>\n",
       "      <td>0.53</td>\n",
       "      <td>13.200000</td>\n",
       "      <td>8</td>\n",
       "    </tr>\n",
       "    <tr>\n",
       "      <th>907</th>\n",
       "      <td>7.1</td>\n",
       "      <td>0.25</td>\n",
       "      <td>0.39</td>\n",
       "      <td>2.1</td>\n",
       "      <td>0.036</td>\n",
       "      <td>30.0</td>\n",
       "      <td>124.0</td>\n",
       "      <td>0.99080</td>\n",
       "      <td>3.28</td>\n",
       "      <td>0.43</td>\n",
       "      <td>12.200000</td>\n",
       "      <td>8</td>\n",
       "    </tr>\n",
       "    <tr>\n",
       "      <th>4352</th>\n",
       "      <td>7.3</td>\n",
       "      <td>0.28</td>\n",
       "      <td>0.35</td>\n",
       "      <td>1.6</td>\n",
       "      <td>0.054</td>\n",
       "      <td>31.0</td>\n",
       "      <td>148.0</td>\n",
       "      <td>0.99178</td>\n",
       "      <td>3.18</td>\n",
       "      <td>0.47</td>\n",
       "      <td>10.700000</td>\n",
       "      <td>5</td>\n",
       "    </tr>\n",
       "    <tr>\n",
       "      <th>3271</th>\n",
       "      <td>6.5</td>\n",
       "      <td>0.32</td>\n",
       "      <td>0.34</td>\n",
       "      <td>5.7</td>\n",
       "      <td>0.044</td>\n",
       "      <td>27.0</td>\n",
       "      <td>91.0</td>\n",
       "      <td>0.99184</td>\n",
       "      <td>3.28</td>\n",
       "      <td>0.60</td>\n",
       "      <td>12.000000</td>\n",
       "      <td>7</td>\n",
       "    </tr>\n",
       "  </tbody>\n",
       "</table>\n",
       "</div>"
      ],
      "text/plain": [
       "      fixed acidity  volatile acidity  citric acid  residual sugar  chlorides  \\\n",
       "4656            6.0              0.29         0.41            10.8      0.048   \n",
       "3659            5.4              0.53         0.16             2.7      0.036   \n",
       "907             7.1              0.25         0.39             2.1      0.036   \n",
       "4352            7.3              0.28         0.35             1.6      0.054   \n",
       "3271            6.5              0.32         0.34             5.7      0.044   \n",
       "\n",
       "      free sulfur dioxide  total sulfur dioxide  density    pH  sulphates  \\\n",
       "4656                 55.0                 149.0  0.99370  3.09       0.59   \n",
       "3659                 34.0                 128.0  0.98856  3.20       0.53   \n",
       "907                  30.0                 124.0  0.99080  3.28       0.43   \n",
       "4352                 31.0                 148.0  0.99178  3.18       0.47   \n",
       "3271                 27.0                  91.0  0.99184  3.28       0.60   \n",
       "\n",
       "        alcohol  quality  \n",
       "4656  10.966667        7  \n",
       "3659  13.200000        8  \n",
       "907   12.200000        8  \n",
       "4352  10.700000        5  \n",
       "3271  12.000000        7  "
      ]
     },
     "execution_count": 18,
     "metadata": {},
     "output_type": "execute_result"
    }
   ],
   "source": [
    "# shuffle data\n",
    "data = data.sample(frac=1, random_state=42)\n",
    "data.head()"
   ]
  },
  {
   "cell_type": "markdown",
   "id": "440ac916",
   "metadata": {},
   "source": [
    "# Insert Id Column"
   ]
  },
  {
   "cell_type": "code",
   "execution_count": 19,
   "id": "9d65ce90",
   "metadata": {},
   "outputs": [
    {
     "name": "stdout",
     "output_type": "stream",
     "text": [
      "      id  fixed acidity  volatile acidity  citric acid  residual sugar  \\\n",
      "4656   0            6.0              0.29         0.41            10.8   \n",
      "3659   1            5.4              0.53         0.16             2.7   \n",
      "907    2            7.1              0.25         0.39             2.1   \n",
      "4352   3            7.3              0.28         0.35             1.6   \n",
      "3271   4            6.5              0.32         0.34             5.7   \n",
      "\n",
      "      chlorides  free sulfur dioxide  total sulfur dioxide  density    pH  \\\n",
      "4656      0.048                 55.0                 149.0  0.99370  3.09   \n",
      "3659      0.036                 34.0                 128.0  0.98856  3.20   \n",
      "907       0.036                 30.0                 124.0  0.99080  3.28   \n",
      "4352      0.054                 31.0                 148.0  0.99178  3.18   \n",
      "3271      0.044                 27.0                  91.0  0.99184  3.28   \n",
      "\n",
      "      sulphates    alcohol  quality  \n",
      "4656       0.59  10.966667        7  \n",
      "3659       0.53  13.200000        8  \n",
      "907        0.43  12.200000        8  \n",
      "4352       0.47  10.700000        5  \n",
      "3271       0.60  12.000000        7  \n"
     ]
    }
   ],
   "source": [
    "# insert Id column \n",
    "if id_col not in data.columns:\n",
    "    N = data.shape[0]\n",
    "    data.insert(0, id_col, np.arange(N))\n",
    "    print(data.head())\n",
    "data[id_col] = data[id_col].astype(str)"
   ]
  },
  {
   "cell_type": "markdown",
   "id": "2a2c6f1c",
   "metadata": {},
   "source": [
    "# Save Main Data File"
   ]
  },
  {
   "cell_type": "code",
   "execution_count": 20,
   "id": "54f5dd60",
   "metadata": {},
   "outputs": [],
   "source": [
    "data.to_csv(outp_fname, index=False)"
   ]
  },
  {
   "cell_type": "markdown",
   "id": "9da2cc64",
   "metadata": {},
   "source": [
    "# Train Test Split"
   ]
  },
  {
   "cell_type": "code",
   "execution_count": 21,
   "id": "11a105ff",
   "metadata": {},
   "outputs": [
    {
     "name": "stdout",
     "output_type": "stream",
     "text": [
      "(4408, 13) (490, 13)\n"
     ]
    }
   ],
   "source": [
    "from sklearn.model_selection import train_test_split\n",
    "test_size = 0.1\n",
    "\n",
    "data_train, data_test = train_test_split(data, test_size=test_size, random_state=42)\n",
    "print(data_train.shape, data_test.shape)\n",
    "\n",
    "data_train.to_csv(outp_train_fname, index=False)\n",
    "data_test.drop(columns=[target_col]).to_csv(outp_test_fname, index=False)\n",
    "data_test[[id_col, target_col]].to_csv(outp_test_key_fname, index=False)"
   ]
  },
  {
   "cell_type": "markdown",
   "id": "a70aa9c0",
   "metadata": {},
   "source": [
    "# JSON inference request instance"
   ]
  },
  {
   "cell_type": "code",
   "execution_count": 22,
   "id": "5e72f38a",
   "metadata": {},
   "outputs": [
    {
     "name": "stdout",
     "output_type": "stream",
     "text": [
      "{'instances': [{'alcohol': 11.0,\n",
      "                'chlorides': 0.045,\n",
      "                'citric acid': 0.49,\n",
      "                'density': 0.9954,\n",
      "                'fixed acidity': 7.9,\n",
      "                'free sulfur dioxide': 48.0,\n",
      "                'id': '4656',\n",
      "                'pH': 3.04,\n",
      "                'residual sugar': 7.7,\n",
      "                'sulphates': 0.55,\n",
      "                'total sulfur dioxide': 195.0,\n",
      "                'volatile acidity': 0.28}]}\n"
     ]
    }
   ],
   "source": [
    "instance = data_test.replace({np.nan:None}).drop(columns=[target_col]).reset_index(drop=True).loc[0].to_dict()\n",
    "infer_req_instance_dict = {  \"instances\": [ {**instance}, ] }\n",
    "pprint.pprint(infer_req_instance_dict)\n",
    "   \n",
    "with open(outp_infer_instances, 'w', encoding='utf8') as f:\n",
    "    json.dump(infer_req_instance_dict, f, indent=2, ensure_ascii=False)"
   ]
  },
  {
   "cell_type": "code",
   "execution_count": null,
   "id": "cd5a550d",
   "metadata": {},
   "outputs": [],
   "source": []
  }
 ],
 "metadata": {
  "kernelspec": {
   "display_name": "Python 3 (ipykernel)",
   "language": "python",
   "name": "python3"
  },
  "language_info": {
   "codemirror_mode": {
    "name": "ipython",
    "version": 3
   },
   "file_extension": ".py",
   "mimetype": "text/x-python",
   "name": "python",
   "nbconvert_exporter": "python",
   "pygments_lexer": "ipython3",
   "version": "3.9.7"
  }
 },
 "nbformat": 4,
 "nbformat_minor": 5
}
